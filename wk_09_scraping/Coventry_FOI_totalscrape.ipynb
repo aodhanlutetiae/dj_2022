{
 "cells": [
  {
   "cell_type": "markdown",
   "id": "52e95337",
   "metadata": {},
   "source": [
    "> Scrape of all Coventry FOI requests: https://www.coventry.gov.uk/directory/45/a-to-z/A\n",
    "\n",
    "> gathers almost 6,300 requests with their topic and the url for that foi request"
   ]
  },
  {
   "cell_type": "code",
   "execution_count": 30,
   "id": "3e505843",
   "metadata": {},
   "outputs": [],
   "source": [
    "import requests\n",
    "from bs4 import BeautifulSoup as bs\n",
    "import pandas as pd\n",
    "pd.set_option('display.max_colwidth', 1000) # show 1000 characters in a string cell\n",
    "from time import sleep\n",
    "import random\n",
    "import string"
   ]
  },
  {
   "cell_type": "code",
   "execution_count": 52,
   "id": "b19c247c",
   "metadata": {},
   "outputs": [
    {
     "name": "stdout",
     "output_type": "stream",
     "text": [
      "A\n",
      "B\n",
      "C\n",
      "D\n",
      "E\n",
      "F\n",
      "G\n",
      "H\n",
      "I\n",
      "J\n",
      "K\n",
      "L\n",
      "M\n",
      "N\n",
      "O\n",
      "P\n",
      "Q\n",
      "R\n",
      "S\n",
      "T\n",
      "U\n",
      "V\n",
      "W\n",
      "Y\n",
      "Z\n"
     ]
    }
   ],
   "source": [
    "my_headers = {\"User-Agent\": \"Mozilla/5.0 (Macintosh; Intel Mac OS X 10.14; rv:71.0) Gecko/20100101 Firefox/71.0; Aidan ODonnell/odonnella4@cardiff.ac.uk. Teaching webscraping for journalism\"}\n",
    "big_list = []\n",
    "base = 'https://www.coventry.gov.uk'\n",
    "\n",
    "for x in list(string.ascii_uppercase):\n",
    "    nb = 1\n",
    "    # if it's the letter X skip back to top\n",
    "    if x == 'X':\n",
    "        continue\n",
    "        \n",
    "    # else, on we go - with the given letter, try to collect 100 pages\n",
    "    print(x)\n",
    "    for y in range(100):\n",
    "        # assemble the url & print it \n",
    "        pg = f'https://www.coventry.gov.uk/directory/45/a-to-z/{x}?page={nb}'\n",
    "        req = requests.get(pg, headers = my_headers)\n",
    "        nb = nb+1\n",
    "\n",
    "        if req.status_code == 200:\n",
    "            soup = bs(req.content)\n",
    "            for y in soup.find_all('ul', class_ = 'list list--record'):\n",
    "                    for z in y.find_all('a'):\n",
    "                        page_list = []\n",
    "                        end = z.attrs['href']\n",
    "                        link = base + end\n",
    "                        copy = z.text\n",
    "                        page_list.extend((copy, link))\n",
    "                        big_list.append(page_list)\n",
    "        \n",
    "        else:\n",
    "            break\n",
    "            \n",
    "        sleep(2)"
   ]
  },
  {
   "cell_type": "code",
   "execution_count": 53,
   "id": "fa5f6073",
   "metadata": {},
   "outputs": [],
   "source": [
    "cols = ['topic', 'link']\n",
    "df = pd.DataFrame(big_list, columns = cols)"
   ]
  },
  {
   "cell_type": "code",
   "execution_count": 54,
   "id": "e150730a",
   "metadata": {},
   "outputs": [
    {
     "data": {
      "text/plain": [
       "(6290, 2)"
      ]
     },
     "execution_count": 54,
     "metadata": {},
     "output_type": "execute_result"
    }
   ],
   "source": [
    "df.shape"
   ]
  },
  {
   "cell_type": "code",
   "execution_count": 55,
   "id": "e1eb9491",
   "metadata": {},
   "outputs": [],
   "source": [
    "df.to_csv('/Users/compj/Desktop/coventry_council_foi.csv', index=False)"
   ]
  },
  {
   "cell_type": "code",
   "execution_count": 62,
   "id": "3519dd2c",
   "metadata": {},
   "outputs": [
    {
     "data": {
      "text/html": [
       "<div>\n",
       "<style scoped>\n",
       "    .dataframe tbody tr th:only-of-type {\n",
       "        vertical-align: middle;\n",
       "    }\n",
       "\n",
       "    .dataframe tbody tr th {\n",
       "        vertical-align: top;\n",
       "    }\n",
       "\n",
       "    .dataframe thead th {\n",
       "        text-align: right;\n",
       "    }\n",
       "</style>\n",
       "<table border=\"1\" class=\"dataframe\">\n",
       "  <thead>\n",
       "    <tr style=\"text-align: right;\">\n",
       "      <th></th>\n",
       "      <th>topic</th>\n",
       "      <th>link</th>\n",
       "    </tr>\n",
       "  </thead>\n",
       "  <tbody>\n",
       "    <tr>\n",
       "      <th>0</th>\n",
       "      <td>A copy of the risk log</td>\n",
       "      <td>https://www.coventry.gov.uk/directory-record/47170/a-copy-of-the-risk-log</td>\n",
       "    </tr>\n",
       "    <tr>\n",
       "      <th>1</th>\n",
       "      <td>A2 installations and Part B permits and enforcement notices</td>\n",
       "      <td>https://www.coventry.gov.uk/directory-record/43606/a2-installations-and-part-b-permits-and-enforcement-notices</td>\n",
       "    </tr>\n",
       "    <tr>\n",
       "      <th>2</th>\n",
       "      <td>A4 Planning Use</td>\n",
       "      <td>https://www.coventry.gov.uk/directory-record/47404/a4-planning-use</td>\n",
       "    </tr>\n",
       "    <tr>\n",
       "      <th>3</th>\n",
       "      <td>A45 junction</td>\n",
       "      <td>https://www.coventry.gov.uk/directory-record/47163/a45-junction</td>\n",
       "    </tr>\n",
       "    <tr>\n",
       "      <th>4</th>\n",
       "      <td>A45 North Bound outside lane road maintenance</td>\n",
       "      <td>https://www.coventry.gov.uk/directory-record/47837/a45-north-bound-outside-lane-road-maintenance</td>\n",
       "    </tr>\n",
       "    <tr>\n",
       "      <th>...</th>\n",
       "      <td>...</td>\n",
       "      <td>...</td>\n",
       "    </tr>\n",
       "    <tr>\n",
       "      <th>294</th>\n",
       "      <td>Assaults at public libraries</td>\n",
       "      <td>https://www.coventry.gov.uk/directory-record/57663/assaults-at-public-libraries</td>\n",
       "    </tr>\n",
       "    <tr>\n",
       "      <th>295</th>\n",
       "      <td>Assaults on civil enforcement officers</td>\n",
       "      <td>https://www.coventry.gov.uk/directory-record/58077/assaults-on-civil-enforcement-officers</td>\n",
       "    </tr>\n",
       "    <tr>\n",
       "      <th>296</th>\n",
       "      <td>Assaults on Council staff.</td>\n",
       "      <td>https://www.coventry.gov.uk/directory-record/46453/assaults-on-council-staff-</td>\n",
       "    </tr>\n",
       "    <tr>\n",
       "      <th>297</th>\n",
       "      <td>Assaults on Housing Staff</td>\n",
       "      <td>https://www.coventry.gov.uk/directory-record/48159/assaults-on-housing-staff</td>\n",
       "    </tr>\n",
       "    <tr>\n",
       "      <th>298</th>\n",
       "      <td>Assaults on refuse collectors by the public</td>\n",
       "      <td>https://www.coventry.gov.uk/directory-record/57905/assaults-on-refuse-collectors-by-the-public</td>\n",
       "    </tr>\n",
       "  </tbody>\n",
       "</table>\n",
       "<p>299 rows × 2 columns</p>\n",
       "</div>"
      ],
      "text/plain": [
       "                                                           topic  \\\n",
       "0                                         A copy of the risk log   \n",
       "1    A2 installations and Part B permits and enforcement notices   \n",
       "2                                                A4 Planning Use   \n",
       "3                                                   A45 junction   \n",
       "4                  A45 North Bound outside lane road maintenance   \n",
       "..                                                           ...   \n",
       "294                                 Assaults at public libraries   \n",
       "295                       Assaults on civil enforcement officers   \n",
       "296                                   Assaults on Council staff.   \n",
       "297                                    Assaults on Housing Staff   \n",
       "298                  Assaults on refuse collectors by the public   \n",
       "\n",
       "                                                                                                               link  \n",
       "0                                         https://www.coventry.gov.uk/directory-record/47170/a-copy-of-the-risk-log  \n",
       "1    https://www.coventry.gov.uk/directory-record/43606/a2-installations-and-part-b-permits-and-enforcement-notices  \n",
       "2                                                https://www.coventry.gov.uk/directory-record/47404/a4-planning-use  \n",
       "3                                                   https://www.coventry.gov.uk/directory-record/47163/a45-junction  \n",
       "4                  https://www.coventry.gov.uk/directory-record/47837/a45-north-bound-outside-lane-road-maintenance  \n",
       "..                                                                                                              ...  \n",
       "294                                 https://www.coventry.gov.uk/directory-record/57663/assaults-at-public-libraries  \n",
       "295                       https://www.coventry.gov.uk/directory-record/58077/assaults-on-civil-enforcement-officers  \n",
       "296                                   https://www.coventry.gov.uk/directory-record/46453/assaults-on-council-staff-  \n",
       "297                                    https://www.coventry.gov.uk/directory-record/48159/assaults-on-housing-staff  \n",
       "298                  https://www.coventry.gov.uk/directory-record/57905/assaults-on-refuse-collectors-by-the-public  \n",
       "\n",
       "[299 rows x 2 columns]"
      ]
     },
     "execution_count": 62,
     "metadata": {},
     "output_type": "execute_result"
    }
   ],
   "source": [
    "df[:299]"
   ]
  },
  {
   "cell_type": "code",
   "execution_count": null,
   "id": "a9de101c",
   "metadata": {},
   "outputs": [],
   "source": []
  },
  {
   "cell_type": "code",
   "execution_count": null,
   "id": "966a5a51",
   "metadata": {},
   "outputs": [],
   "source": []
  },
  {
   "cell_type": "code",
   "execution_count": null,
   "id": "cc3447ae",
   "metadata": {},
   "outputs": [],
   "source": []
  }
 ],
 "metadata": {
  "kernelspec": {
   "display_name": "Python 3 (ipykernel)",
   "language": "python",
   "name": "python3"
  },
  "language_info": {
   "codemirror_mode": {
    "name": "ipython",
    "version": 3
   },
   "file_extension": ".py",
   "mimetype": "text/x-python",
   "name": "python",
   "nbconvert_exporter": "python",
   "pygments_lexer": "ipython3",
   "version": "3.9.13"
  }
 },
 "nbformat": 4,
 "nbformat_minor": 5
}
